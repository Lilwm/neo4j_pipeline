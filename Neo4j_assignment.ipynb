{
  "nbformat": 4,
  "nbformat_minor": 0,
  "metadata": {
    "colab": {
      "provenance": [],
      "authorship_tag": "ABX9TyNK0V9HvZGQ/q5gYRAWx8lZ"
    },
    "kernelspec": {
      "name": "python3",
      "display_name": "Python 3"
    },
    "language_info": {
      "name": "python"
    }
  },
  "cells": [
    {
      "cell_type": "code",
      "execution_count": null,
      "metadata": {
        "id": "-xvLsf_6K7in"
      },
      "outputs": [],
      "source": [
        "!pip install neo4j\n"
      ]
    },
    {
      "cell_type": "code",
      "source": [
        "!pip install psycopg2"
      ],
      "metadata": {
        "id": "Rou2bfAFYkCE"
      },
      "execution_count": null,
      "outputs": []
    },
    {
      "cell_type": "code",
      "source": [
        "#import the necessary libraries\n",
        "from neo4j import GraphDatabase\n",
        "import pandas as pd\n",
        "import psycopg2\n",
        " \n",
        "# Define Neo4j connection details\n",
        "\n",
        "neo4j_uri = \"neo4j+s://38cb2d98.databases.neo4j.io\"\n",
        "neo4j_user = \"neo4j\"\n",
        "neo4j_password = \"eLeMvqRIB-LEzL0m02uWsWzZAiBa1g7luK68YYD84W4\"\n",
        "\n",
        "# Define Postgres connection details\n",
        "pg_host = \"localhost\"\n",
        "pg_database = \"neo4j_data\"\n",
        "pg_user = \"postgres\"\n",
        "pg_password = \"Admin1\"\n",
        "\n",
        "# Define Neo4j query to extract data\n",
        "neo4j_query =\"\"\"\n",
        "        MATCH (c:Customer)-[:HAS_SUBSCRIPTION]->(s:Subscription)-[:INCLUDES_SERVICE]->(se:Service)\n",
        "        RETURN c.customer_id AS customer_id, s.subscription_id AS subscription_id, \n",
        "               se.service_id AS service_id, s.start_date AS start_date, \n",
        "               s.end_date AS end_date, s.price AS price\n",
        "    \"\"\"\n",
        "\n",
        "# Define function to extract data from Neo4j and return a Pandas DataFrame\n",
        "def extract_data(neo4j_uri, neo4j_user, neo4j_password, neo4j_query):\n",
        "    # Connect to Neo4j\n",
        "    driver = GraphDatabase.driver(neo4j_uri, auth=(neo4j_user,neo4j_password))\n",
        "    # Execute the query and retrieve the results\n",
        "    with driver.session() as session:\n",
        "        results = session.run(neo4j_query)\n",
        "    # Convert results to pandas DataFrame\n",
        "        df = pd.DataFrame(results.records, columns=results.keys())\n",
        "\n",
        "    # Close the driver connection\n",
        "    driver.close()\n",
        "\n",
        "    return df  \n",
        "\n",
        "# Define function to transform data\n",
        "def transform_data(df):\n",
        "    # Convert date fields to datetime objects\n",
        "    df[\"start_date\"] = pd.to_datetime(df[\"start_date\"])\n",
        "    df['end_date'] = pd.to_datetime(df['end_date'])\n",
        "   \n",
        "    # Remove null values\n",
        "    df.dropna(inplace=True)\n",
        "     \n",
        "    return df\n",
        "\n",
        "# Define function to load data into Postgres\n",
        "def load_data(df):\n",
        "    # Connect to Postgres\n",
        "    conn = psycopg2.connect(host=pg_host, database=pg_database, user=pg_user, password=pg_password)\n",
        "    # Create table if it doesn't exist\n",
        "    with conn.cursor() as cursor:\n",
        "        cursor.execute(\"\"\"\n",
        "        CREATE TABLE IF NOT EXISTS telecom_data (\n",
        "            customer_id INTEGER,\n",
        "            subscription_id INTEGER,\n",
        "            service_id INTEGER,\n",
        "            start_date DATE,\n",
        "            end_date DATE,\n",
        "            price FLOAT\n",
        "        )\n",
        "        \"\"\")\n",
        "    # Insert data into table\n",
        "    cur = conn.cursor()\n",
        "    for row in df.itertuples(index=False):\n",
        "      cur.execute(\"\"\"\n",
        "            INSERT INTO subscriptions (customer_id, subscription_id, service_id, start_date, end_date, price)\n",
        "            VALUES (%s, %s, %s, %s, %s, %s)\n",
        "            \"\"\", row)\n",
        "\n",
        "    conn.commit()\n",
        "    conn.close()\n",
        "\n",
        "def main():\n",
        "    # Extract data from Neo4j\n",
        "    data = extract_data()\n",
        "\n",
        "    # Transform data using Pandas\n",
        "    df = transform_data(df)\n",
        "\n",
        "    # Load data into Postgres\n",
        "    load_data(df)\n",
        "\n",
        "if __name__ == \"__main__\":\n",
        "    main()"
      ],
      "metadata": {
        "id": "VoWurGVfLpyF"
      },
      "execution_count": 6,
      "outputs": []
    }
  ]
}